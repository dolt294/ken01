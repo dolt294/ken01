{
  "nbformat": 4,
  "nbformat_minor": 0,
  "metadata": {
    "colab": {
      "provenance": [],
      "gpuType": "T4",
      "mount_file_id": "1Beke4kupkhAqiivrhhMbecueS844Xcxw",
      "authorship_tag": "ABX9TyNHmfW9cHg373Cej7zFqRB7",
      "include_colab_link": true
    },
    "kernelspec": {
      "name": "python3",
      "display_name": "Python 3"
    },
    "language_info": {
      "name": "python"
    },
    "accelerator": "GPU",
    "gpuClass": "standard"
  },
  "cells": [
    {
      "cell_type": "markdown",
      "metadata": {
        "id": "view-in-github",
        "colab_type": "text"
      },
      "source": [
        "<a href=\"https://colab.research.google.com/github/dolt294/ken01/blob/main/05_sound_class_flow_a.ipynb\" target=\"_parent\"><img src=\"https://colab.research.google.com/assets/colab-badge.svg\" alt=\"Open In Colab\"/></a>"
      ]
    },
    {
      "cell_type": "markdown",
      "source": [
        "CNNを使ったヒグラシの音声認識（モデル構築編）～夏休みの自由研究～<br>\n",
        "https://qiita.com/tomato1997/items/52f3d9775162c3283af8"
      ],
      "metadata": {
        "id": "5vwmr2VAEmuX"
      }
    },
    {
      "cell_type": "markdown",
      "source": [
        "最初に、収集した音源データを処理する<p>\n",
        "\n",
        "ffmpeg を使って m4a を wav に変換し、その後で 指定秒数毎に<br>\n",
        "ファイルを分割して、フォルダに格納する\n",
        "\n",
        "分割方法は次のサイトを参考にした<br>\n",
        "Pythonでwavファイルを分割<br>\n",
        "https://coffee-blue-mountain.com/python-wav-cut-210809/<br>"
      ],
      "metadata": {
        "id": "4HVjK3xmXWdn"
      }
    },
    {
      "cell_type": "code",
      "source": [
        "import wave\n",
        "import struct\n",
        "import math\n",
        "import os\n",
        "from scipy import fromstring, int16"
      ],
      "metadata": {
        "id": "JHRt84OWXezF"
      },
      "execution_count": 3,
      "outputs": []
    },
    {
      "cell_type": "code",
      "source": [
        "!pip install ffmpeg-python\n",
        "import ffmpeg"
      ],
      "metadata": {
        "id": "9ady3slHXhc9",
        "colab": {
          "base_uri": "https://localhost:8080/"
        },
        "outputId": "ddae55e5-8ec0-457d-cd89-8c73632d80da"
      },
      "execution_count": 4,
      "outputs": [
        {
          "output_type": "stream",
          "name": "stdout",
          "text": [
            "Looking in indexes: https://pypi.org/simple, https://us-python.pkg.dev/colab-wheels/public/simple/\n",
            "Collecting ffmpeg-python\n",
            "  Downloading ffmpeg_python-0.2.0-py3-none-any.whl (25 kB)\n",
            "Requirement already satisfied: future in /usr/local/lib/python3.10/dist-packages (from ffmpeg-python) (0.18.3)\n",
            "Installing collected packages: ffmpeg-python\n",
            "Successfully installed ffmpeg-python-0.2.0\n"
          ]
        }
      ]
    },
    {
      "cell_type": "code",
      "source": [
        "!wget \"https://github.com/dolt294/ken01/raw/main/gas2_20L.zip\""
      ],
      "metadata": {
        "colab": {
          "base_uri": "https://localhost:8080/"
        },
        "id": "XNJUkZoCORG9",
        "outputId": "b95cc08d-a4f1-4746-e0ed-cd64dfe99689"
      },
      "execution_count": 7,
      "outputs": [
        {
          "output_type": "stream",
          "name": "stdout",
          "text": [
            "--2023-06-14 23:31:09--  https://github.com/dolt294/ken01/raw/main/gas2_20L.zip\n",
            "Resolving github.com (github.com)... 192.30.255.112\n",
            "Connecting to github.com (github.com)|192.30.255.112|:443... connected.\n",
            "HTTP request sent, awaiting response... 302 Found\n",
            "Location: https://raw.githubusercontent.com/dolt294/ken01/main/gas2_20L.zip [following]\n",
            "--2023-06-14 23:31:09--  https://raw.githubusercontent.com/dolt294/ken01/main/gas2_20L.zip\n",
            "Resolving raw.githubusercontent.com (raw.githubusercontent.com)... 185.199.108.133, 185.199.110.133, 185.199.111.133, ...\n",
            "Connecting to raw.githubusercontent.com (raw.githubusercontent.com)|185.199.108.133|:443... connected.\n",
            "HTTP request sent, awaiting response... 200 OK\n",
            "Length: 21192086 (20M) [application/zip]\n",
            "Saving to: ‘gas2_20L.zip’\n",
            "\n",
            "gas2_20L.zip        100%[===================>]  20.21M  --.-KB/s    in 0.1s    \n",
            "\n",
            "2023-06-14 23:31:10 (212 MB/s) - ‘gas2_20L.zip’ saved [21192086/21192086]\n",
            "\n"
          ]
        }
      ]
    },
    {
      "cell_type": "code",
      "source": [
        "!unzip gas2_20L.zip"
      ],
      "metadata": {
        "colab": {
          "base_uri": "https://localhost:8080/"
        },
        "id": "Ii0V6KZwP83z",
        "outputId": "764a9da7-bfce-4707-bc24-875d46b87cba"
      },
      "execution_count": 8,
      "outputs": [
        {
          "output_type": "stream",
          "name": "stdout",
          "text": [
            "Archive:  gas2_20L.zip\n",
            "  inflating: gas02L.aac              \n",
            "  inflating: gas05L.aac              \n",
            "  inflating: gas08L.aac              \n",
            "  inflating: gas11L.aac              \n",
            "  inflating: gas14L.aac              \n",
            "  inflating: gas17L.aac              \n",
            "  inflating: gas20L.aac              \n"
          ]
        }
      ]
    },
    {
      "cell_type": "code",
      "source": [
        "def wav_cut(filename,time):\n",
        "\n",
        "    # ファイルを読み出し\n",
        "    wavf = filename + '.wav'\n",
        "    wr = wave.open(wavf, 'r')\n",
        "\n",
        "\n",
        "    # waveファイルが持つ性質を取得\n",
        "    ch = wr.getnchannels()\n",
        "    width = wr.getsampwidth()\n",
        "    fr = wr.getframerate()\n",
        "    fn = wr.getnframes()\n",
        "    total_time = 1.0 * fn / fr\n",
        "    integer = math.floor(total_time) # 小数点以下切り捨て\n",
        "    t = int(time)  # 秒数[sec]\n",
        "    frames = int(ch * fr * t)\n",
        "    num_cut = int(integer//t)\n",
        "\n",
        "    #　確認用\n",
        "    print(\"Channel: \", ch)\n",
        "    print(\"Sample width: \", width)\n",
        "    print(\"Frame Rate: \", fr)\n",
        "    print(\"Frame num: \", fn)\n",
        "    print(\"Params: \", wr.getparams())\n",
        "    print(\"Total time: \", total_time)\n",
        "    print(\"Total time(integer)\",integer)\n",
        "    print(\"Time: \", t)\n",
        "    print(\"Frames: \", frames)\n",
        "    print(\"Number of cut: \",num_cut)\n",
        "    # waveの実データを取得し、数値化\n",
        "    data = wr.readframes(wr.getnframes())\n",
        "    wr.close()\n",
        "    X = fromstring(data, dtype=int16)\n",
        "    print(X)\n",
        "\n",
        "    for i in range(num_cut):\n",
        "        print(i)\n",
        "        # 出力データを生成\n",
        "        # outf = 'output/' + str(i) + '.wav'\n",
        "        outf = filename + '/' + str(i) + '.wav'\n",
        "        start_cut = i*frames\n",
        "        end_cut = i*frames + frames\n",
        "        print(start_cut)\n",
        "        print(end_cut)\n",
        "        Y = X[start_cut:end_cut]\n",
        "        outd = struct.pack(\"h\" * len(Y), *Y)\n",
        "\n",
        "        # 書き出し\n",
        "        ww = wave.open(outf, 'w')\n",
        "        ww.setnchannels(ch)\n",
        "        ww.setsampwidth(width)\n",
        "        ww.setframerate(fr)\n",
        "        ww.writeframes(outd)\n",
        "        ww.close()"
      ],
      "metadata": {
        "id": "V_IZgQT0Xj34"
      },
      "execution_count": 15,
      "outputs": []
    },
    {
      "cell_type": "markdown",
      "source": [
        "後述の戻る場所はここです。<p>"
      ],
      "metadata": {
        "id": "MqbZxvCIZSL-"
      }
    },
    {
      "cell_type": "code",
      "source": [
        "# プログラム上で保存するフォルダを指定する。拡張子部分は要らない。\n",
        "# f_name = \"gas02L\"  \"gas05L\" \"gas07L\" \"gas11L\" \"gas14L\" \"gas17L\" \"gas20L\"\n",
        "# 上記のように順番に変更する\n",
        "\n",
        "f_name = \"gas02L\"\n",
        "\n",
        "#切り取り時間[sec]\n",
        "cut_time = 2\n",
        "\n",
        "# 保存するフォルダの作成\n",
        "file = os.path.exists(f_name)\n",
        "print(file)\n",
        "if file == False:\n",
        "    os.mkdir(f_name)\n",
        "# 保存するフォルダの作成\n",
        "file = os.path.exists(f_name)\n",
        "print(file)\n",
        "if file == False:\n",
        "    os.mkdir(f_name)"
      ],
      "metadata": {
        "id": "9Lr7AS1bX2gC",
        "colab": {
          "base_uri": "https://localhost:8080/"
        },
        "outputId": "d094a074-c81e-43d9-d84b-c66e3d12b654"
      },
      "execution_count": 33,
      "outputs": [
        {
          "output_type": "stream",
          "name": "stdout",
          "text": [
            "False\n",
            "True\n"
          ]
        }
      ]
    },
    {
      "cell_type": "code",
      "source": [
        "# ここで、ffmpeg を使ってファイル変換　m4a -> wav\n",
        "# 音源ファイルの拡張子に合わせて修正すること\n",
        "# wav_in  = f_name + '.m4a'\n",
        "\n",
        "wav_in  = f_name + '.aac'\n",
        "wav_out = f_name + '.wav'\n",
        "stream=ffmpeg.input(wav_in)\n",
        "stream=ffmpeg.output(stream,wav_out)\n",
        "ffmpeg.run(stream)"
      ],
      "metadata": {
        "id": "CiryMkSGYuAb",
        "colab": {
          "base_uri": "https://localhost:8080/"
        },
        "outputId": "34fd8a5f-f0f2-44fc-aac7-15b93a6d2811"
      },
      "execution_count": 34,
      "outputs": [
        {
          "output_type": "execute_result",
          "data": {
            "text/plain": [
              "(None, None)"
            ]
          },
          "metadata": {},
          "execution_count": 34
        }
      ]
    },
    {
      "cell_type": "code",
      "source": [
        "# 定義済みの関数を実行する\n",
        "# 分割し、output フォルダに格納する\n",
        "wav_cut(f_name,cut_time)"
      ],
      "metadata": {
        "id": "LtjMLpnyZIWb",
        "colab": {
          "base_uri": "https://localhost:8080/"
        },
        "outputId": "a676456e-74eb-4b48-b517-6f50fbe05eef"
      },
      "execution_count": 35,
      "outputs": [
        {
          "output_type": "stream",
          "name": "stdout",
          "text": [
            "Channel:  1\n",
            "Sample width:  2\n",
            "Frame Rate:  48000\n",
            "Frame num:  6287360\n",
            "Params:  _wave_params(nchannels=1, sampwidth=2, framerate=48000, nframes=6287360, comptype='NONE', compname='not compressed')\n",
            "Total time:  130.98666666666668\n",
            "Total time(integer) 130\n",
            "Time:  2\n",
            "Frames:  96000\n",
            "Number of cut:  65\n",
            "[ 0  0  0 ... 53 47 46]\n",
            "0\n",
            "0\n",
            "96000\n",
            "1\n",
            "96000\n",
            "192000\n",
            "2\n",
            "192000\n",
            "288000\n",
            "3\n",
            "288000\n",
            "384000\n",
            "4\n",
            "384000\n",
            "480000\n",
            "5\n",
            "480000\n",
            "576000\n",
            "6\n",
            "576000\n",
            "672000\n",
            "7\n",
            "672000\n",
            "768000\n",
            "8\n",
            "768000\n",
            "864000\n",
            "9\n",
            "864000\n",
            "960000\n",
            "10\n",
            "960000\n",
            "1056000\n",
            "11\n",
            "1056000\n",
            "1152000\n",
            "12\n",
            "1152000\n",
            "1248000\n",
            "13\n",
            "1248000\n",
            "1344000\n",
            "14\n",
            "1344000\n",
            "1440000\n",
            "15\n",
            "1440000\n",
            "1536000\n",
            "16\n",
            "1536000\n",
            "1632000\n",
            "17\n",
            "1632000\n",
            "1728000\n",
            "18\n",
            "1728000\n",
            "1824000\n",
            "19\n",
            "1824000\n",
            "1920000\n",
            "20\n",
            "1920000\n",
            "2016000\n",
            "21\n",
            "2016000\n",
            "2112000\n",
            "22\n",
            "2112000\n",
            "2208000\n"
          ]
        },
        {
          "output_type": "stream",
          "name": "stderr",
          "text": [
            "<ipython-input-15-f7ddeca81839>:33: DeprecationWarning: scipy.fromstring is deprecated and will be removed in SciPy 2.0.0, use numpy.fromstring instead\n",
            "  X = fromstring(data, dtype=int16)\n"
          ]
        },
        {
          "output_type": "stream",
          "name": "stdout",
          "text": [
            "23\n",
            "2208000\n",
            "2304000\n",
            "24\n",
            "2304000\n",
            "2400000\n",
            "25\n",
            "2400000\n",
            "2496000\n",
            "26\n",
            "2496000\n",
            "2592000\n",
            "27\n",
            "2592000\n",
            "2688000\n",
            "28\n",
            "2688000\n",
            "2784000\n",
            "29\n",
            "2784000\n",
            "2880000\n",
            "30\n",
            "2880000\n",
            "2976000\n",
            "31\n",
            "2976000\n",
            "3072000\n",
            "32\n",
            "3072000\n",
            "3168000\n",
            "33\n",
            "3168000\n",
            "3264000\n",
            "34\n",
            "3264000\n",
            "3360000\n",
            "35\n",
            "3360000\n",
            "3456000\n",
            "36\n",
            "3456000\n",
            "3552000\n",
            "37\n",
            "3552000\n",
            "3648000\n",
            "38\n",
            "3648000\n",
            "3744000\n",
            "39\n",
            "3744000\n",
            "3840000\n",
            "40\n",
            "3840000\n",
            "3936000\n",
            "41\n",
            "3936000\n",
            "4032000\n",
            "42\n",
            "4032000\n",
            "4128000\n",
            "43\n",
            "4128000\n",
            "4224000\n",
            "44\n",
            "4224000\n",
            "4320000\n",
            "45\n",
            "4320000\n",
            "4416000\n",
            "46\n",
            "4416000\n",
            "4512000\n",
            "47\n",
            "4512000\n",
            "4608000\n",
            "48\n",
            "4608000\n",
            "4704000\n",
            "49\n",
            "4704000\n",
            "4800000\n",
            "50\n",
            "4800000\n",
            "4896000\n",
            "51\n",
            "4896000\n",
            "4992000\n",
            "52\n",
            "4992000\n",
            "5088000\n",
            "53\n",
            "5088000\n",
            "5184000\n",
            "54\n",
            "5184000\n",
            "5280000\n",
            "55\n",
            "5280000\n",
            "5376000\n",
            "56\n",
            "5376000\n",
            "5472000\n",
            "57\n",
            "5472000\n",
            "5568000\n",
            "58\n",
            "5568000\n",
            "5664000\n",
            "59\n",
            "5664000\n",
            "5760000\n",
            "60\n",
            "5760000\n",
            "5856000\n",
            "61\n",
            "5856000\n",
            "5952000\n",
            "62\n",
            "5952000\n",
            "6048000\n",
            "63\n",
            "6048000\n",
            "6144000\n",
            "64\n",
            "6144000\n",
            "6240000\n"
          ]
        }
      ]
    },
    {
      "cell_type": "markdown",
      "source": [
        "変換したいファイル（.aac）があれば、上に戻ってファイル選択する<br>\n",
        "必要なファイルが全て処理できたら、フォルダ名を使いたい名前に変える<br>\n",
        "gas02L -> class0 、などのように<br>\n",
        "\n",
        "class0、class1、class2 等のフォルダを<br>\n",
        "全ての音声データを処理したら、次のブロックへ移動する。"
      ],
      "metadata": {
        "id": "dh9E_DxJZOTa"
      }
    },
    {
      "cell_type": "code",
      "source": [
        "import os\n",
        "import glob\n",
        "import numpy as np\n",
        "import librosa\n",
        "import librosa.display\n",
        "import matplotlib.pyplot as plt"
      ],
      "metadata": {
        "id": "DwhNcdvPAGN5"
      },
      "execution_count": 36,
      "outputs": []
    },
    {
      "cell_type": "code",
      "source": [
        "# load a wave data\n",
        "def load_wave_data(audio_dir, file_name):\n",
        "    file_path = os.path.join(audio_dir, file_name)\n",
        "    x, fs = librosa.load(file_path, sr=44100)\n",
        "    return x,fs\n",
        "\n",
        "# change wave data to mel-stft\n",
        "def calculate_melsp(x, n_fft=1024, hop_length=128):\n",
        "    stft = np.abs(librosa.stft(x, n_fft=n_fft, hop_length=hop_length))**2\n",
        "    log_stft = librosa.power_to_db(stft)\n",
        "    melsp = librosa.feature.melspectrogram(S=log_stft,n_mels=128)\n",
        "    return melsp\n",
        "\n",
        "# display wave in plots\n",
        "def show_wave(x):\n",
        "    plt.plot(x)\n",
        "    plt.show()\n",
        "\n",
        "# display wave in heatmap\n",
        "def show_melsp(melsp, fs):\n",
        "    librosa.display.specshow(melsp, sr=fs)\n",
        "    plt.colorbar()\n",
        "    plt.show()\n",
        "\n",
        "# wavfile division\n",
        "def wav_div_nparr(fname):\n",
        "    x, fs = load_wave_data('', fname)\n",
        "    xls = []\n",
        "    for i in range(0,len(x)-fs,fs):\n",
        "        xls.append(np.copy(x[i:i+fs]))\n",
        "    return np.array(xls)"
      ],
      "metadata": {
        "id": "BvQHL-aUALjA"
      },
      "execution_count": 37,
      "outputs": []
    },
    {
      "cell_type": "code",
      "source": [
        "# folder = ''\n",
        "files = glob.glob('class*/*.wav')\n",
        "Xls = []\n",
        "yls = []\n",
        "for file in files:\n",
        "    print(file)\n",
        "    label = file[file.find('class'):file.find('.wav')].split('/')[0][5:] # classの後の数字をとってくる\n",
        "    x = wav_div_nparr(file)\n",
        "    for i in range(x.shape[0]):\n",
        "        melsp = calculate_melsp(x[i])\n",
        "        Xls.append(melsp)\n",
        "        yls.append(label)\n",
        "X = np.array(Xls)\n",
        "X = X.reshape(X.shape[0],X.shape[1],X.shape[2],1)\n",
        "Y = np.array(yls).astype(int)\n",
        "print(X.shape,Y.shape)"
      ],
      "metadata": {
        "colab": {
          "base_uri": "https://localhost:8080/"
        },
        "id": "ujzH6mKFAXHI",
        "outputId": "71e6b362-8cae-42a3-adc9-29c25c4ce113"
      },
      "execution_count": 38,
      "outputs": [
        {
          "output_type": "stream",
          "name": "stdout",
          "text": [
            "class4/9.wav\n",
            "class4/11.wav\n",
            "class4/43.wav\n",
            "class4/26.wav\n",
            "class4/34.wav\n",
            "class4/57.wav\n",
            "class4/25.wav\n",
            "class4/2.wav\n",
            "class4/36.wav\n",
            "class4/24.wav\n",
            "class4/35.wav\n",
            "class4/5.wav\n",
            "class4/27.wav\n",
            "class4/30.wav\n",
            "class4/47.wav\n",
            "class4/28.wav\n",
            "class4/21.wav\n",
            "class4/53.wav\n",
            "class4/45.wav\n",
            "class4/44.wav\n",
            "class4/13.wav\n",
            "class4/18.wav\n",
            "class4/23.wav\n",
            "class4/39.wav\n",
            "class4/31.wav\n",
            "class4/49.wav\n",
            "class4/20.wav\n",
            "class4/32.wav\n",
            "class4/16.wav\n",
            "class4/54.wav\n",
            "class4/29.wav\n",
            "class4/59.wav\n",
            "class4/42.wav\n",
            "class4/4.wav\n",
            "class4/56.wav\n",
            "class4/41.wav\n",
            "class4/48.wav\n",
            "class4/0.wav\n",
            "class4/14.wav\n",
            "class4/17.wav\n",
            "class4/8.wav\n",
            "class4/51.wav\n",
            "class4/55.wav\n",
            "class4/38.wav\n",
            "class4/10.wav\n",
            "class4/22.wav\n",
            "class4/15.wav\n",
            "class4/1.wav\n",
            "class4/33.wav\n",
            "class4/3.wav\n",
            "class4/12.wav\n",
            "class4/58.wav\n",
            "class4/50.wav\n",
            "class4/52.wav\n",
            "class4/19.wav\n",
            "class4/37.wav\n",
            "class4/46.wav\n",
            "class4/7.wav\n",
            "class4/6.wav\n",
            "class4/40.wav\n",
            "class0/9.wav\n",
            "class0/11.wav\n",
            "class0/43.wav\n",
            "class0/26.wav\n",
            "class0/34.wav\n",
            "class0/57.wav\n",
            "class0/25.wav\n",
            "class0/2.wav\n",
            "class0/36.wav\n",
            "class0/24.wav\n",
            "class0/35.wav\n",
            "class0/5.wav\n",
            "class0/27.wav\n",
            "class0/30.wav\n",
            "class0/47.wav\n",
            "class0/28.wav\n",
            "class0/21.wav\n",
            "class0/53.wav\n",
            "class0/45.wav\n",
            "class0/44.wav\n",
            "class0/13.wav\n",
            "class0/18.wav\n",
            "class0/23.wav\n",
            "class0/39.wav\n",
            "class0/31.wav\n",
            "class0/49.wav\n",
            "class0/20.wav\n",
            "class0/32.wav\n",
            "class0/16.wav\n",
            "class0/54.wav\n",
            "class0/29.wav\n",
            "class0/59.wav\n",
            "class0/42.wav\n",
            "class0/4.wav\n",
            "class0/56.wav\n",
            "class0/41.wav\n",
            "class0/48.wav\n",
            "class0/0.wav\n",
            "class0/14.wav\n",
            "class0/17.wav\n",
            "class0/8.wav\n",
            "class0/51.wav\n",
            "class0/55.wav\n",
            "class0/38.wav\n",
            "class0/10.wav\n",
            "class0/22.wav\n",
            "class0/15.wav\n",
            "class0/1.wav\n",
            "class0/33.wav\n",
            "class0/3.wav\n",
            "class0/12.wav\n",
            "class0/58.wav\n",
            "class0/50.wav\n",
            "class0/52.wav\n",
            "class0/19.wav\n",
            "class0/37.wav\n",
            "class0/46.wav\n",
            "class0/7.wav\n",
            "class0/6.wav\n",
            "class0/40.wav\n",
            "class5/9.wav\n",
            "class5/11.wav\n",
            "class5/43.wav\n",
            "class5/26.wav\n",
            "class5/34.wav\n",
            "class5/57.wav\n",
            "class5/25.wav\n",
            "class5/2.wav\n",
            "class5/36.wav\n",
            "class5/24.wav\n",
            "class5/35.wav\n",
            "class5/5.wav\n",
            "class5/27.wav\n",
            "class5/30.wav\n",
            "class5/47.wav\n",
            "class5/28.wav\n",
            "class5/21.wav\n",
            "class5/53.wav\n",
            "class5/45.wav\n",
            "class5/44.wav\n",
            "class5/13.wav\n",
            "class5/18.wav\n",
            "class5/23.wav\n",
            "class5/39.wav\n",
            "class5/31.wav\n",
            "class5/49.wav\n",
            "class5/20.wav\n",
            "class5/32.wav\n",
            "class5/16.wav\n",
            "class5/54.wav\n",
            "class5/29.wav\n",
            "class5/59.wav\n",
            "class5/42.wav\n",
            "class5/4.wav\n",
            "class5/56.wav\n",
            "class5/41.wav\n",
            "class5/48.wav\n",
            "class5/0.wav\n",
            "class5/14.wav\n",
            "class5/17.wav\n",
            "class5/8.wav\n",
            "class5/51.wav\n",
            "class5/55.wav\n",
            "class5/38.wav\n",
            "class5/10.wav\n",
            "class5/22.wav\n",
            "class5/15.wav\n",
            "class5/1.wav\n",
            "class5/33.wav\n",
            "class5/3.wav\n",
            "class5/12.wav\n",
            "class5/58.wav\n",
            "class5/50.wav\n",
            "class5/52.wav\n",
            "class5/19.wav\n",
            "class5/37.wav\n",
            "class5/46.wav\n",
            "class5/7.wav\n",
            "class5/6.wav\n",
            "class5/40.wav\n",
            "class6/9.wav\n",
            "class6/11.wav\n",
            "class6/43.wav\n",
            "class6/26.wav\n",
            "class6/34.wav\n",
            "class6/57.wav\n",
            "class6/25.wav\n",
            "class6/2.wav\n",
            "class6/36.wav\n",
            "class6/24.wav\n",
            "class6/35.wav\n",
            "class6/5.wav\n",
            "class6/27.wav\n",
            "class6/61.wav\n",
            "class6/30.wav\n",
            "class6/47.wav\n",
            "class6/28.wav\n",
            "class6/21.wav\n",
            "class6/53.wav\n",
            "class6/45.wav\n",
            "class6/44.wav\n",
            "class6/13.wav\n",
            "class6/18.wav\n",
            "class6/23.wav\n",
            "class6/39.wav\n",
            "class6/31.wav\n",
            "class6/64.wav\n",
            "class6/49.wav\n",
            "class6/20.wav\n",
            "class6/32.wav\n",
            "class6/16.wav\n",
            "class6/60.wav\n",
            "class6/54.wav\n",
            "class6/29.wav\n",
            "class6/59.wav\n",
            "class6/42.wav\n",
            "class6/4.wav\n",
            "class6/56.wav\n",
            "class6/41.wav\n",
            "class6/48.wav\n",
            "class6/0.wav\n",
            "class6/62.wav\n",
            "class6/14.wav\n",
            "class6/17.wav\n",
            "class6/8.wav\n",
            "class6/51.wav\n",
            "class6/55.wav\n",
            "class6/38.wav\n",
            "class6/10.wav\n",
            "class6/22.wav\n",
            "class6/15.wav\n",
            "class6/1.wav\n",
            "class6/33.wav\n",
            "class6/3.wav\n",
            "class6/12.wav\n",
            "class6/58.wav\n",
            "class6/50.wav\n",
            "class6/52.wav\n",
            "class6/63.wav\n",
            "class6/19.wav\n",
            "class6/37.wav\n",
            "class6/46.wav\n",
            "class6/7.wav\n",
            "class6/6.wav\n",
            "class6/40.wav\n",
            "class1/9.wav\n",
            "class1/11.wav\n",
            "class1/43.wav\n",
            "class1/26.wav\n",
            "class1/34.wav\n",
            "class1/57.wav\n",
            "class1/25.wav\n",
            "class1/2.wav\n",
            "class1/36.wav\n",
            "class1/24.wav\n",
            "class1/35.wav\n",
            "class1/5.wav\n",
            "class1/27.wav\n",
            "class1/30.wav\n",
            "class1/47.wav\n",
            "class1/28.wav\n",
            "class1/21.wav\n",
            "class1/53.wav\n",
            "class1/45.wav\n",
            "class1/44.wav\n",
            "class1/13.wav\n",
            "class1/18.wav\n",
            "class1/23.wav\n",
            "class1/39.wav\n",
            "class1/31.wav\n",
            "class1/49.wav\n",
            "class1/20.wav\n",
            "class1/32.wav\n",
            "class1/16.wav\n",
            "class1/54.wav\n",
            "class1/29.wav\n",
            "class1/59.wav\n",
            "class1/42.wav\n",
            "class1/4.wav\n",
            "class1/56.wav\n",
            "class1/41.wav\n",
            "class1/48.wav\n",
            "class1/0.wav\n",
            "class1/14.wav\n",
            "class1/17.wav\n",
            "class1/8.wav\n",
            "class1/51.wav\n",
            "class1/55.wav\n",
            "class1/38.wav\n",
            "class1/10.wav\n",
            "class1/22.wav\n",
            "class1/15.wav\n",
            "class1/1.wav\n",
            "class1/33.wav\n",
            "class1/3.wav\n",
            "class1/12.wav\n",
            "class1/58.wav\n",
            "class1/50.wav\n",
            "class1/52.wav\n",
            "class1/19.wav\n",
            "class1/37.wav\n",
            "class1/46.wav\n",
            "class1/7.wav\n",
            "class1/6.wav\n",
            "class1/40.wav\n",
            "class2/9.wav\n",
            "class2/11.wav\n",
            "class2/43.wav\n",
            "class2/26.wav\n",
            "class2/34.wav\n",
            "class2/57.wav\n",
            "class2/25.wav\n",
            "class2/2.wav\n",
            "class2/36.wav\n",
            "class2/24.wav\n",
            "class2/35.wav\n",
            "class2/5.wav\n",
            "class2/27.wav\n",
            "class2/30.wav\n",
            "class2/47.wav\n",
            "class2/28.wav\n",
            "class2/21.wav\n",
            "class2/53.wav\n",
            "class2/45.wav\n",
            "class2/44.wav\n",
            "class2/13.wav\n",
            "class2/18.wav\n",
            "class2/23.wav\n",
            "class2/39.wav\n",
            "class2/31.wav\n",
            "class2/49.wav\n",
            "class2/20.wav\n",
            "class2/32.wav\n",
            "class2/16.wav\n",
            "class2/54.wav\n",
            "class2/29.wav\n",
            "class2/59.wav\n",
            "class2/42.wav\n",
            "class2/4.wav\n",
            "class2/56.wav\n",
            "class2/41.wav\n",
            "class2/48.wav\n",
            "class2/0.wav\n",
            "class2/14.wav\n",
            "class2/17.wav\n",
            "class2/8.wav\n",
            "class2/51.wav\n",
            "class2/55.wav\n",
            "class2/38.wav\n",
            "class2/10.wav\n",
            "class2/22.wav\n",
            "class2/15.wav\n",
            "class2/1.wav\n",
            "class2/33.wav\n",
            "class2/3.wav\n",
            "class2/12.wav\n",
            "class2/58.wav\n",
            "class2/50.wav\n",
            "class2/52.wav\n",
            "class2/19.wav\n",
            "class2/37.wav\n",
            "class2/46.wav\n",
            "class2/7.wav\n",
            "class2/6.wav\n",
            "class2/40.wav\n",
            "class3/9.wav\n",
            "class3/11.wav\n",
            "class3/43.wav\n",
            "class3/26.wav\n",
            "class3/34.wav\n",
            "class3/57.wav\n",
            "class3/25.wav\n",
            "class3/2.wav\n",
            "class3/36.wav\n",
            "class3/24.wav\n",
            "class3/35.wav\n",
            "class3/5.wav\n",
            "class3/27.wav\n",
            "class3/30.wav\n",
            "class3/47.wav\n",
            "class3/28.wav\n",
            "class3/21.wav\n",
            "class3/53.wav\n",
            "class3/45.wav\n",
            "class3/44.wav\n",
            "class3/13.wav\n",
            "class3/18.wav\n",
            "class3/23.wav\n",
            "class3/39.wav\n",
            "class3/31.wav\n",
            "class3/49.wav\n",
            "class3/20.wav\n",
            "class3/32.wav\n",
            "class3/16.wav\n",
            "class3/54.wav\n",
            "class3/29.wav\n",
            "class3/59.wav\n",
            "class3/42.wav\n",
            "class3/4.wav\n",
            "class3/56.wav\n",
            "class3/41.wav\n",
            "class3/48.wav\n",
            "class3/0.wav\n",
            "class3/14.wav\n",
            "class3/17.wav\n",
            "class3/8.wav\n",
            "class3/51.wav\n",
            "class3/55.wav\n",
            "class3/38.wav\n",
            "class3/10.wav\n",
            "class3/22.wav\n",
            "class3/15.wav\n",
            "class3/1.wav\n",
            "class3/33.wav\n",
            "class3/3.wav\n",
            "class3/12.wav\n",
            "class3/58.wav\n",
            "class3/50.wav\n",
            "class3/52.wav\n",
            "class3/19.wav\n",
            "class3/37.wav\n",
            "class3/46.wav\n",
            "class3/7.wav\n",
            "class3/6.wav\n",
            "class3/40.wav\n",
            "(425, 128, 345, 1) (425,)\n"
          ]
        }
      ]
    },
    {
      "cell_type": "code",
      "source": [
        "print(Y)"
      ],
      "metadata": {
        "colab": {
          "base_uri": "https://localhost:8080/"
        },
        "id": "zOfXoj4hGJYg",
        "outputId": "9cbf47f9-697f-477e-e440-3a4aa3fe53db"
      },
      "execution_count": 39,
      "outputs": [
        {
          "output_type": "stream",
          "name": "stdout",
          "text": [
            "[4 4 4 4 4 4 4 4 4 4 4 4 4 4 4 4 4 4 4 4 4 4 4 4 4 4 4 4 4 4 4 4 4 4 4 4 4\n",
            " 4 4 4 4 4 4 4 4 4 4 4 4 4 4 4 4 4 4 4 4 4 4 4 0 0 0 0 0 0 0 0 0 0 0 0 0 0\n",
            " 0 0 0 0 0 0 0 0 0 0 0 0 0 0 0 0 0 0 0 0 0 0 0 0 0 0 0 0 0 0 0 0 0 0 0 0 0\n",
            " 0 0 0 0 0 0 0 0 0 5 5 5 5 5 5 5 5 5 5 5 5 5 5 5 5 5 5 5 5 5 5 5 5 5 5 5 5\n",
            " 5 5 5 5 5 5 5 5 5 5 5 5 5 5 5 5 5 5 5 5 5 5 5 5 5 5 5 5 5 5 5 5 6 6 6 6 6\n",
            " 6 6 6 6 6 6 6 6 6 6 6 6 6 6 6 6 6 6 6 6 6 6 6 6 6 6 6 6 6 6 6 6 6 6 6 6 6\n",
            " 6 6 6 6 6 6 6 6 6 6 6 6 6 6 6 6 6 6 6 6 6 6 6 1 1 1 1 1 1 1 1 1 1 1 1 1 1\n",
            " 1 1 1 1 1 1 1 1 1 1 1 1 1 1 1 1 1 1 1 1 1 1 1 1 1 1 1 1 1 1 1 1 1 1 1 1 1\n",
            " 1 1 1 1 1 1 1 1 1 2 2 2 2 2 2 2 2 2 2 2 2 2 2 2 2 2 2 2 2 2 2 2 2 2 2 2 2\n",
            " 2 2 2 2 2 2 2 2 2 2 2 2 2 2 2 2 2 2 2 2 2 2 2 2 2 2 2 2 2 2 2 2 3 3 3 3 3\n",
            " 3 3 3 3 3 3 3 3 3 3 3 3 3 3 3 3 3 3 3 3 3 3 3 3 3 3 3 3 3 3 3 3 3 3 3 3 3\n",
            " 3 3 3 3 3 3 3 3 3 3 3 3 3 3 3 3 3 3]\n"
          ]
        }
      ]
    },
    {
      "cell_type": "code",
      "source": [
        "from sklearn.model_selection import train_test_split\n",
        "from tensorflow.keras.utils import to_categorical\n",
        "x_train, x_test, y_train, y_test = train_test_split(\n",
        "    X,\n",
        "    Y,\n",
        "    random_state = 0,\n",
        "    test_size = 0.2\n",
        ")\n",
        "# y to categorical\n",
        "classes = np.max(Y)+1 # 今回は7クラス分類\n",
        "# class3,class4,...,class9 までデータを作っておけば、10クラス分類問題になる（自動的に）\n",
        "y_train = to_categorical(y_train, classes)\n",
        "y_test = to_categorical(y_test, classes)"
      ],
      "metadata": {
        "id": "oQNZP_eEEDEL"
      },
      "execution_count": 40,
      "outputs": []
    },
    {
      "cell_type": "markdown",
      "source": [
        "原波形、メルスペクトログラムの表示"
      ],
      "metadata": {
        "id": "EoSAxPXuHp2p"
      }
    },
    {
      "cell_type": "code",
      "source": [
        "fs = 44100\n",
        "# 次の行の　class3/  の後に存在するファイル名を入れること\n",
        "X = wav_div_nparr('class3/11.wav') # ファイル名は存在するものを指定\n",
        "melsp = calculate_melsp(X[0])\n",
        "show_wave(X[0])\n",
        "show_melsp(melsp, fs)"
      ],
      "metadata": {
        "colab": {
          "base_uri": "https://localhost:8080/",
          "height": 819
        },
        "id": "M-1MKKh-EGoZ",
        "outputId": "c9519c37-dbc6-4c75-cda4-b8ec53cabcd2"
      },
      "execution_count": 60,
      "outputs": [
        {
          "output_type": "display_data",
          "data": {
            "text/plain": [
              "<Figure size 640x480 with 1 Axes>"
            ],
            "image/png": "[encoded data removed]"
          },
          "metadata": {}
        },
        {
          "output_type": "display_data",
          "data": {
            "text/plain": [
              "<Figure size 640x480 with 2 Axes>"
            ],
            "image/png": "[encoded data removed]"
          },
          "metadata": {}
        }
      ]
    },
    {
      "cell_type": "code",
      "source": [
        "from keras.optimizers import Adam\n",
        "from tensorflow.keras.layers import Input\n",
        "from keras.models import Model\n",
        "from keras.layers import Dense, Dropout, Activation\n",
        "from keras.layers import Conv2D, GlobalAveragePooling2D,MaxPooling2D,Flatten\n",
        "from keras.layers import BatchNormalization, Add\n",
        "\n",
        "def cba(inputs, filters, kernel_size, strides):\n",
        "    x = Conv2D(filters, kernel_size=kernel_size, strides=strides, padding='same')(inputs)\n",
        "    x = BatchNormalization()(x)\n",
        "    x = Activation(\"relu\")(x)\n",
        "    return x\n",
        "\n",
        "# define CNN\n",
        "inputs = Input(shape=(x_train.shape[1:]))\n",
        "\n",
        "x_1 = cba(inputs, filters=32, kernel_size=(1,8), strides=(1,2))\n",
        "x_1 = cba(x_1, filters=32, kernel_size=(8,1), strides=(2,1))\n",
        "x_1 = MaxPooling2D(pool_size = (2, 2))(x_1)\n",
        "x_1 = cba(x_1, filters=64, kernel_size=(1,8), strides=(1,2))\n",
        "x_1 = cba(x_1, filters=64, kernel_size=(8,1), strides=(2,1))\n",
        "\n",
        "x_2 = cba(inputs, filters=32, kernel_size=(1,16), strides=(1,2))\n",
        "x_2 = cba(x_2, filters=32, kernel_size=(16,1), strides=(2,1))\n",
        "x_2 = MaxPooling2D(pool_size = (2, 2))(x_2)\n",
        "x_2 = cba(x_2, filters=64, kernel_size=(1,16), strides=(1,2))\n",
        "x_2 = cba(x_2, filters=64, kernel_size=(16,1), strides=(2,1))\n",
        "\n",
        "x_3 = cba(inputs, filters=32, kernel_size=(1,32), strides=(1,2))\n",
        "x_3 = cba(x_3, filters=32, kernel_size=(32,1), strides=(2,1))\n",
        "x_3 = MaxPooling2D(pool_size = (2, 2))(x_3)\n",
        "x_3 = cba(x_3, filters=64, kernel_size=(1,32), strides=(1,2))\n",
        "x_3 = cba(x_3, filters=64, kernel_size=(32,1), strides=(2,1))\n",
        "\n",
        "x = Add()([x_1, x_2, x_3])\n",
        "x = MaxPooling2D(pool_size = (2, 2))(x)\n",
        "x = Dropout(0.25)(x)\n",
        "x = cba(x, filters=64, kernel_size=(1,8), strides=(1,2))\n",
        "x = cba(x, filters=64, kernel_size=(8,1), strides=(2,1))\n",
        "x = GlobalAveragePooling2D()(x)\n",
        "\n",
        "x = Dense(64)(x)\n",
        "x = Activation(\"relu\")(x)\n",
        "x = Dense(classes)(x)\n",
        "x = Activation(\"softmax\")(x)\n",
        "\n",
        "model = Model(inputs, x)\n",
        "\n",
        "# initiate Adam optimizer\n",
        "opt = Adam(learning_rate=0.0001, decay=1e-6, amsgrad=True)\n",
        "\n",
        "# Let's train the model using Adam with amsgrad\n",
        "model.compile(loss='categorical_crossentropy',\n",
        "              optimizer=opt,\n",
        "              metrics=['accuracy'])"
      ],
      "metadata": {
        "id": "bFMGrz1jEJND"
      },
      "execution_count": 50,
      "outputs": []
    },
    {
      "cell_type": "markdown",
      "source": [
        "nepochs=100 で 100%予測可能<br>\n",
        "nepochs=30  で"
      ],
      "metadata": {
        "id": "qdSflrLwT_Zq"
      }
    },
    {
      "cell_type": "code",
      "source": [
        "nepochs=100 # 原典は10\n",
        "history=model.fit(x_train,y_train,epochs=nepochs,batch_size=30,validation_data=(x_test, y_test))"
      ],
      "metadata": {
        "colab": {
          "base_uri": "https://localhost:8080/"
        },
        "id": "f9Yl5bvKENqp",
        "outputId": "b70a9363-d01a-4d32-8611-b74fabd5168f"
      },
      "execution_count": 51,
      "outputs": [
        {
          "output_type": "stream",
          "name": "stdout",
          "text": [
            "Epoch 1/100\n",
            "12/12 [==============================] - 5s 210ms/step - loss: 1.8883 - accuracy: 0.1912 - val_loss: 1.9424 - val_accuracy: 0.1765\n",
            "Epoch 2/100\n",
            "12/12 [==============================] - 2s 173ms/step - loss: 1.5977 - accuracy: 0.3559 - val_loss: 1.9321 - val_accuracy: 0.2471\n",
            "Epoch 3/100\n",
            "12/12 [==============================] - 2s 173ms/step - loss: 1.4226 - accuracy: 0.4735 - val_loss: 1.9262 - val_accuracy: 0.2471\n",
            "Epoch 4/100\n",
            "12/12 [==============================] - 2s 174ms/step - loss: 1.2910 - accuracy: 0.5000 - val_loss: 1.9225 - val_accuracy: 0.1294\n",
            "Epoch 5/100\n",
            "12/12 [==============================] - 2s 182ms/step - loss: 1.1814 - accuracy: 0.5735 - val_loss: 1.9133 - val_accuracy: 0.1294\n",
            "Epoch 6/100\n",
            "12/12 [==============================] - 2s 181ms/step - loss: 1.0870 - accuracy: 0.6176 - val_loss: 1.9017 - val_accuracy: 0.2000\n",
            "Epoch 7/100\n",
            "12/12 [==============================] - 2s 179ms/step - loss: 1.0064 - accuracy: 0.6765 - val_loss: 1.8922 - val_accuracy: 0.2000\n",
            "Epoch 8/100\n",
            "12/12 [==============================] - 2s 174ms/step - loss: 1.0112 - accuracy: 0.6706 - val_loss: 1.8639 - val_accuracy: 0.2471\n",
            "Epoch 9/100\n",
            "12/12 [==============================] - 2s 175ms/step - loss: 0.9109 - accuracy: 0.7412 - val_loss: 1.8335 - val_accuracy: 0.2353\n",
            "Epoch 10/100\n",
            "12/12 [==============================] - 2s 178ms/step - loss: 0.8478 - accuracy: 0.7647 - val_loss: 1.7815 - val_accuracy: 0.4235\n",
            "Epoch 11/100\n",
            "12/12 [==============================] - 2s 184ms/step - loss: 0.8767 - accuracy: 0.6971 - val_loss: 1.7514 - val_accuracy: 0.2471\n",
            "Epoch 12/100\n",
            "12/12 [==============================] - 2s 182ms/step - loss: 0.7450 - accuracy: 0.8588 - val_loss: 1.7046 - val_accuracy: 0.3176\n",
            "Epoch 13/100\n",
            "12/12 [==============================] - 2s 177ms/step - loss: 0.6853 - accuracy: 0.8618 - val_loss: 1.6708 - val_accuracy: 0.3176\n",
            "Epoch 14/100\n",
            "12/12 [==============================] - 2s 182ms/step - loss: 0.7032 - accuracy: 0.8206 - val_loss: 1.6637 - val_accuracy: 0.3059\n",
            "Epoch 15/100\n",
            "12/12 [==============================] - 2s 176ms/step - loss: 0.6398 - accuracy: 0.8588 - val_loss: 1.6260 - val_accuracy: 0.4235\n",
            "Epoch 16/100\n",
            "12/12 [==============================] - 2s 179ms/step - loss: 0.6714 - accuracy: 0.7794 - val_loss: 1.6400 - val_accuracy: 0.3294\n",
            "Epoch 17/100\n",
            "12/12 [==============================] - 2s 185ms/step - loss: 0.6662 - accuracy: 0.8235 - val_loss: 1.6127 - val_accuracy: 0.4000\n",
            "Epoch 18/100\n",
            "12/12 [==============================] - 2s 183ms/step - loss: 0.5868 - accuracy: 0.8441 - val_loss: 1.6308 - val_accuracy: 0.2471\n",
            "Epoch 19/100\n",
            "12/12 [==============================] - 2s 183ms/step - loss: 0.5761 - accuracy: 0.8382 - val_loss: 1.6371 - val_accuracy: 0.2000\n",
            "Epoch 20/100\n",
            "12/12 [==============================] - 2s 178ms/step - loss: 0.5793 - accuracy: 0.8147 - val_loss: 1.7218 - val_accuracy: 0.1647\n",
            "Epoch 21/100\n",
            "12/12 [==============================] - 2s 178ms/step - loss: 0.4926 - accuracy: 0.9029 - val_loss: 1.7543 - val_accuracy: 0.1647\n",
            "Epoch 22/100\n",
            "12/12 [==============================] - 2s 186ms/step - loss: 0.4466 - accuracy: 0.9353 - val_loss: 1.8710 - val_accuracy: 0.1176\n",
            "Epoch 23/100\n",
            "12/12 [==============================] - 2s 185ms/step - loss: 0.4481 - accuracy: 0.9000 - val_loss: 1.9089 - val_accuracy: 0.1176\n",
            "Epoch 24/100\n",
            "12/12 [==============================] - 2s 178ms/step - loss: 0.4666 - accuracy: 0.8794 - val_loss: 1.8975 - val_accuracy: 0.1412\n",
            "Epoch 25/100\n",
            "12/12 [==============================] - 2s 183ms/step - loss: 0.3666 - accuracy: 0.9618 - val_loss: 2.1179 - val_accuracy: 0.1176\n",
            "Epoch 26/100\n",
            "12/12 [==============================] - 2s 178ms/step - loss: 0.4479 - accuracy: 0.8912 - val_loss: 1.9746 - val_accuracy: 0.1412\n",
            "Epoch 27/100\n",
            "12/12 [==============================] - 2s 183ms/step - loss: 0.4339 - accuracy: 0.8765 - val_loss: 2.2078 - val_accuracy: 0.1176\n",
            "Epoch 28/100\n",
            "12/12 [==============================] - 2s 182ms/step - loss: 0.4376 - accuracy: 0.8647 - val_loss: 2.1364 - val_accuracy: 0.2353\n",
            "Epoch 29/100\n",
            "12/12 [==============================] - 2s 177ms/step - loss: 0.4010 - accuracy: 0.8912 - val_loss: 2.3501 - val_accuracy: 0.2353\n",
            "Epoch 30/100\n",
            "12/12 [==============================] - 2s 183ms/step - loss: 0.4836 - accuracy: 0.8176 - val_loss: 2.4028 - val_accuracy: 0.2471\n",
            "Epoch 31/100\n",
            "12/12 [==============================] - 2s 177ms/step - loss: 0.5890 - accuracy: 0.7706 - val_loss: 2.5646 - val_accuracy: 0.2471\n",
            "Epoch 32/100\n",
            "12/12 [==============================] - 2s 176ms/step - loss: 0.4093 - accuracy: 0.8735 - val_loss: 2.3560 - val_accuracy: 0.2588\n",
            "Epoch 33/100\n",
            "12/12 [==============================] - 2s 184ms/step - loss: 0.3115 - accuracy: 0.9294 - val_loss: 2.2488 - val_accuracy: 0.2471\n",
            "Epoch 34/100\n",
            "12/12 [==============================] - 2s 180ms/step - loss: 0.3530 - accuracy: 0.9176 - val_loss: 2.3296 - val_accuracy: 0.2588\n",
            "Epoch 35/100\n",
            "12/12 [==============================] - 2s 176ms/step - loss: 0.3738 - accuracy: 0.8824 - val_loss: 2.3842 - val_accuracy: 0.3059\n",
            "Epoch 36/100\n",
            "12/12 [==============================] - 2s 181ms/step - loss: 0.3714 - accuracy: 0.8882 - val_loss: 2.4676 - val_accuracy: 0.3294\n",
            "Epoch 37/100\n",
            "12/12 [==============================] - 2s 175ms/step - loss: 0.3282 - accuracy: 0.9118 - val_loss: 2.3508 - val_accuracy: 0.3294\n",
            "Epoch 38/100\n",
            "12/12 [==============================] - 2s 176ms/step - loss: 0.3316 - accuracy: 0.9029 - val_loss: 2.1852 - val_accuracy: 0.3412\n",
            "Epoch 39/100\n",
            "12/12 [==============================] - 2s 183ms/step - loss: 0.3792 - accuracy: 0.8882 - val_loss: 2.1069 - val_accuracy: 0.3294\n",
            "Epoch 40/100\n",
            "12/12 [==============================] - 2s 183ms/step - loss: 0.2589 - accuracy: 0.9529 - val_loss: 1.8912 - val_accuracy: 0.3412\n",
            "Epoch 41/100\n",
            "12/12 [==============================] - 2s 175ms/step - loss: 0.2818 - accuracy: 0.9235 - val_loss: 1.6943 - val_accuracy: 0.3294\n",
            "Epoch 42/100\n",
            "12/12 [==============================] - 2s 175ms/step - loss: 0.2479 - accuracy: 0.9559 - val_loss: 1.4809 - val_accuracy: 0.3765\n",
            "Epoch 43/100\n",
            "12/12 [==============================] - 2s 175ms/step - loss: 0.2673 - accuracy: 0.9412 - val_loss: 1.6835 - val_accuracy: 0.3529\n",
            "Epoch 44/100\n",
            "12/12 [==============================] - 2s 181ms/step - loss: 0.3485 - accuracy: 0.8794 - val_loss: 1.9619 - val_accuracy: 0.3412\n",
            "Epoch 45/100\n",
            "12/12 [==============================] - 2s 184ms/step - loss: 0.3222 - accuracy: 0.9059 - val_loss: 1.9319 - val_accuracy: 0.3412\n",
            "Epoch 46/100\n",
            "12/12 [==============================] - 2s 176ms/step - loss: 0.2792 - accuracy: 0.9206 - val_loss: 1.4038 - val_accuracy: 0.3647\n",
            "Epoch 47/100\n",
            "12/12 [==============================] - 2s 178ms/step - loss: 0.2814 - accuracy: 0.9206 - val_loss: 1.5426 - val_accuracy: 0.3647\n",
            "Epoch 48/100\n",
            "12/12 [==============================] - 2s 184ms/step - loss: 0.2887 - accuracy: 0.9235 - val_loss: 1.4344 - val_accuracy: 0.4235\n",
            "Epoch 49/100\n",
            "12/12 [==============================] - 2s 182ms/step - loss: 0.2873 - accuracy: 0.9235 - val_loss: 0.7780 - val_accuracy: 0.6235\n",
            "Epoch 50/100\n",
            "12/12 [==============================] - 2s 182ms/step - loss: 0.2517 - accuracy: 0.9353 - val_loss: 1.1722 - val_accuracy: 0.4235\n",
            "Epoch 51/100\n",
            "12/12 [==============================] - 2s 184ms/step - loss: 0.1856 - accuracy: 0.9706 - val_loss: 1.3170 - val_accuracy: 0.4471\n",
            "Epoch 52/100\n",
            "12/12 [==============================] - 2s 176ms/step - loss: 0.2582 - accuracy: 0.9294 - val_loss: 0.4567 - val_accuracy: 0.8000\n",
            "Epoch 53/100\n",
            "12/12 [==============================] - 2s 177ms/step - loss: 0.2798 - accuracy: 0.9294 - val_loss: 0.2732 - val_accuracy: 0.9176\n",
            "Epoch 54/100\n",
            "12/12 [==============================] - 2s 177ms/step - loss: 0.2759 - accuracy: 0.9000 - val_loss: 0.3902 - val_accuracy: 0.8471\n",
            "Epoch 55/100\n",
            "12/12 [==============================] - 2s 182ms/step - loss: 0.2416 - accuracy: 0.9412 - val_loss: 0.2983 - val_accuracy: 0.8941\n",
            "Epoch 56/100\n",
            "12/12 [==============================] - 2s 180ms/step - loss: 0.2930 - accuracy: 0.8882 - val_loss: 0.2614 - val_accuracy: 0.9294\n",
            "Epoch 57/100\n",
            "12/12 [==============================] - 2s 179ms/step - loss: 0.2523 - accuracy: 0.9324 - val_loss: 0.6990 - val_accuracy: 0.6353\n",
            "Epoch 58/100\n",
            "12/12 [==============================] - 2s 177ms/step - loss: 0.2327 - accuracy: 0.9471 - val_loss: 0.3672 - val_accuracy: 0.8235\n",
            "Epoch 59/100\n",
            "12/12 [==============================] - 2s 182ms/step - loss: 0.2393 - accuracy: 0.9382 - val_loss: 0.2504 - val_accuracy: 0.9529\n",
            "Epoch 60/100\n",
            "12/12 [==============================] - 2s 176ms/step - loss: 0.2064 - accuracy: 0.9500 - val_loss: 0.1929 - val_accuracy: 0.9529\n",
            "Epoch 61/100\n",
            "12/12 [==============================] - 2s 177ms/step - loss: 0.2879 - accuracy: 0.8882 - val_loss: 0.2810 - val_accuracy: 0.8941\n",
            "Epoch 62/100\n",
            "12/12 [==============================] - 2s 184ms/step - loss: 0.1617 - accuracy: 0.9794 - val_loss: 0.4483 - val_accuracy: 0.7647\n",
            "Epoch 63/100\n",
            "12/12 [==============================] - 2s 184ms/step - loss: 0.2209 - accuracy: 0.9412 - val_loss: 0.2083 - val_accuracy: 0.9412\n",
            "Epoch 64/100\n",
            "12/12 [==============================] - 2s 181ms/step - loss: 0.2579 - accuracy: 0.9059 - val_loss: 0.2190 - val_accuracy: 0.9294\n",
            "Epoch 65/100\n",
            "12/12 [==============================] - 2s 176ms/step - loss: 0.2141 - accuracy: 0.9294 - val_loss: 0.0955 - val_accuracy: 1.0000\n",
            "Epoch 66/100\n",
            "12/12 [==============================] - 2s 177ms/step - loss: 0.3305 - accuracy: 0.8853 - val_loss: 0.1423 - val_accuracy: 0.9765\n",
            "Epoch 67/100\n",
            "12/12 [==============================] - 2s 183ms/step - loss: 0.1877 - accuracy: 0.9588 - val_loss: 0.2762 - val_accuracy: 0.9059\n",
            "Epoch 68/100\n",
            "12/12 [==============================] - 2s 184ms/step - loss: 0.2572 - accuracy: 0.9147 - val_loss: 0.5341 - val_accuracy: 0.7529\n",
            "Epoch 69/100\n",
            "12/12 [==============================] - 2s 182ms/step - loss: 0.2018 - accuracy: 0.9412 - val_loss: 0.4190 - val_accuracy: 0.8235\n",
            "Epoch 70/100\n",
            "12/12 [==============================] - 2s 176ms/step - loss: 0.3133 - accuracy: 0.8882 - val_loss: 0.9761 - val_accuracy: 0.7294\n",
            "Epoch 71/100\n",
            "12/12 [==============================] - 2s 176ms/step - loss: 0.3002 - accuracy: 0.9294 - val_loss: 1.9423 - val_accuracy: 0.4353\n",
            "Epoch 72/100\n",
            "12/12 [==============================] - 2s 175ms/step - loss: 0.1947 - accuracy: 0.9500 - val_loss: 1.1367 - val_accuracy: 0.6353\n",
            "Epoch 73/100\n",
            "12/12 [==============================] - 2s 179ms/step - loss: 0.2060 - accuracy: 0.9529 - val_loss: 0.1778 - val_accuracy: 0.9765\n",
            "Epoch 74/100\n",
            "12/12 [==============================] - 2s 184ms/step - loss: 0.1470 - accuracy: 0.9882 - val_loss: 0.1009 - val_accuracy: 0.9882\n",
            "Epoch 75/100\n",
            "12/12 [==============================] - 2s 176ms/step - loss: 0.2257 - accuracy: 0.9382 - val_loss: 0.1243 - val_accuracy: 0.9882\n",
            "Epoch 76/100\n",
            "12/12 [==============================] - 2s 177ms/step - loss: 0.1717 - accuracy: 0.9559 - val_loss: 0.2711 - val_accuracy: 0.9294\n",
            "Epoch 77/100\n",
            "12/12 [==============================] - 2s 183ms/step - loss: 0.2049 - accuracy: 0.9324 - val_loss: 0.2290 - val_accuracy: 0.9059\n",
            "Epoch 78/100\n",
            "12/12 [==============================] - 2s 176ms/step - loss: 0.1286 - accuracy: 0.9765 - val_loss: 0.1768 - val_accuracy: 0.9647\n",
            "Epoch 79/100\n",
            "12/12 [==============================] - 2s 185ms/step - loss: 0.1626 - accuracy: 0.9618 - val_loss: 0.3079 - val_accuracy: 0.8353\n",
            "Epoch 80/100\n",
            "12/12 [==============================] - 2s 182ms/step - loss: 0.1725 - accuracy: 0.9676 - val_loss: 0.1628 - val_accuracy: 0.9765\n",
            "Epoch 81/100\n",
            "12/12 [==============================] - 2s 182ms/step - loss: 0.1384 - accuracy: 0.9676 - val_loss: 0.1712 - val_accuracy: 0.9765\n",
            "Epoch 82/100\n",
            "12/12 [==============================] - 2s 181ms/step - loss: 0.1374 - accuracy: 0.9794 - val_loss: 0.1267 - val_accuracy: 0.9647\n",
            "Epoch 83/100\n",
            "12/12 [==============================] - 2s 183ms/step - loss: 0.1827 - accuracy: 0.9471 - val_loss: 0.1448 - val_accuracy: 0.9529\n",
            "Epoch 84/100\n",
            "12/12 [==============================] - 2s 182ms/step - loss: 0.1677 - accuracy: 0.9588 - val_loss: 0.3179 - val_accuracy: 0.9059\n",
            "Epoch 85/100\n",
            "12/12 [==============================] - 2s 179ms/step - loss: 0.2073 - accuracy: 0.9412 - val_loss: 0.4229 - val_accuracy: 0.7647\n",
            "Epoch 86/100\n",
            "12/12 [==============================] - 2s 176ms/step - loss: 0.1286 - accuracy: 0.9882 - val_loss: 0.1748 - val_accuracy: 0.9529\n",
            "Epoch 87/100\n",
            "12/12 [==============================] - 2s 177ms/step - loss: 0.2505 - accuracy: 0.9118 - val_loss: 0.1679 - val_accuracy: 0.9294\n",
            "Epoch 88/100\n",
            "12/12 [==============================] - 2s 182ms/step - loss: 0.2243 - accuracy: 0.9353 - val_loss: 0.3910 - val_accuracy: 0.8353\n",
            "Epoch 89/100\n",
            "12/12 [==============================] - 2s 176ms/step - loss: 0.2027 - accuracy: 0.9500 - val_loss: 0.8468 - val_accuracy: 0.6941\n",
            "Epoch 90/100\n",
            "12/12 [==============================] - 2s 184ms/step - loss: 0.1101 - accuracy: 0.9912 - val_loss: 0.1263 - val_accuracy: 0.9647\n",
            "Epoch 91/100\n",
            "12/12 [==============================] - 2s 178ms/step - loss: 0.1327 - accuracy: 0.9706 - val_loss: 0.1188 - val_accuracy: 0.9882\n",
            "Epoch 92/100\n",
            "12/12 [==============================] - 2s 176ms/step - loss: 0.1401 - accuracy: 0.9618 - val_loss: 0.3624 - val_accuracy: 0.8471\n",
            "Epoch 93/100\n",
            "12/12 [==============================] - 2s 176ms/step - loss: 0.1703 - accuracy: 0.9559 - val_loss: 0.3256 - val_accuracy: 0.8706\n",
            "Epoch 94/100\n",
            "12/12 [==============================] - 2s 177ms/step - loss: 0.1179 - accuracy: 0.9794 - val_loss: 0.4759 - val_accuracy: 0.7647\n",
            "Epoch 95/100\n",
            "12/12 [==============================] - 2s 176ms/step - loss: 0.1157 - accuracy: 0.9853 - val_loss: 0.4925 - val_accuracy: 0.7765\n",
            "Epoch 96/100\n",
            "12/12 [==============================] - 2s 180ms/step - loss: 0.0773 - accuracy: 0.9971 - val_loss: 0.1237 - val_accuracy: 0.9765\n",
            "Epoch 97/100\n",
            "12/12 [==============================] - 2s 178ms/step - loss: 0.0909 - accuracy: 0.9912 - val_loss: 0.4769 - val_accuracy: 0.8000\n",
            "Epoch 98/100\n",
            "12/12 [==============================] - 2s 177ms/step - loss: 0.1197 - accuracy: 0.9676 - val_loss: 0.1077 - val_accuracy: 0.9882\n",
            "Epoch 99/100\n",
            "12/12 [==============================] - 2s 177ms/step - loss: 0.1235 - accuracy: 0.9853 - val_loss: 0.0949 - val_accuracy: 0.9882\n",
            "Epoch 100/100\n",
            "12/12 [==============================] - 2s 182ms/step - loss: 0.1010 - accuracy: 0.9882 - val_loss: 0.1267 - val_accuracy: 0.9882\n"
          ]
        }
      ]
    },
    {
      "cell_type": "code",
      "source": [
        "plt.plot(history.history['accuracy'])\n",
        "plt.plot(history.history['val_accuracy'])\n",
        "plt.title('Training and validation accuracy')\n",
        "plt.xlabel('epoch')\n",
        "plt.ylabel('accuracy')\n",
        "plt.xlim([0.0, nepochs])\n",
        "plt.ylim([0.0, 1.0])\n",
        "plt.legend(['acc','cal_acc'],loc='lower right')\n",
        "plt.show"
      ],
      "metadata": {
        "colab": {
          "base_uri": "https://localhost:8080/",
          "height": 489
        },
        "id": "4AMeNGdZU9Ph",
        "outputId": "c82b0f2c-818a-4f93-97fa-887ac7b2ec8d"
      },
      "execution_count": 55,
      "outputs": [
        {
          "output_type": "execute_result",
          "data": {
            "text/plain": [
              "<function matplotlib.pyplot.show(close=None, block=None)>"
            ]
          },
          "metadata": {},
          "execution_count": 55
        },
        {
          "output_type": "display_data",
          "data": {
            "text/plain": [
              "<Figure size 640x480 with 1 Axes>"
            ],
            "image/png": "[encoded data removed]"
          },
          "metadata": {}
        }
      ]
    },
    {
      "cell_type": "code",
      "source": [
        "from sklearn.metrics import confusion_matrix,classification_report"
      ],
      "metadata": {
        "id": "t1W9X1ikERrz"
      },
      "execution_count": 56,
      "outputs": []
    },
    {
      "cell_type": "code",
      "source": [
        "pred_train = model.predict(x_train)\n",
        "print(confusion_matrix(np.argmax(y_train,axis=1),np.argmax(pred_train,axis=1)))\n",
        "print(classification_report(np.argmax(y_train,axis=1),np.argmax(pred_train,axis=1)))"
      ],
      "metadata": {
        "colab": {
          "base_uri": "https://localhost:8080/"
        },
        "id": "xmrMdFkNEUMy",
        "outputId": "76466170-93d8-4ab2-d643-a05e80555624"
      },
      "execution_count": 57,
      "outputs": [
        {
          "output_type": "stream",
          "name": "stdout",
          "text": [
            "11/11 [==============================] - 2s 98ms/step\n",
            "[[50  0  0  0  0  0  0]\n",
            " [ 0 51  0  0  0  0  0]\n",
            " [ 0  0 45  0  0  0  0]\n",
            " [ 0  0  0 49  0  0  0]\n",
            " [ 0  0  0  0 46  0  0]\n",
            " [ 0  0  0  0  0 44  0]\n",
            " [ 0  0  0  0  0  3 52]]\n",
            "              precision    recall  f1-score   support\n",
            "\n",
            "           0       1.00      1.00      1.00        50\n",
            "           1       1.00      1.00      1.00        51\n",
            "           2       1.00      1.00      1.00        45\n",
            "           3       1.00      1.00      1.00        49\n",
            "           4       1.00      1.00      1.00        46\n",
            "           5       0.94      1.00      0.97        44\n",
            "           6       1.00      0.95      0.97        55\n",
            "\n",
            "    accuracy                           0.99       340\n",
            "   macro avg       0.99      0.99      0.99       340\n",
            "weighted avg       0.99      0.99      0.99       340\n",
            "\n"
          ]
        }
      ]
    },
    {
      "cell_type": "code",
      "source": [
        "pred_test = model.predict(x_test)\n",
        "print(confusion_matrix(np.argmax(y_test,axis=1),np.argmax(pred_test,axis=-1)))\n",
        "print(classification_report(np.argmax(y_test,axis=1),np.argmax(pred_test,axis=-1)))"
      ],
      "metadata": {
        "colab": {
          "base_uri": "https://localhost:8080/"
        },
        "id": "NqRZRxH1EXTR",
        "outputId": "b6ba7e64-a93d-4b4d-a9df-3ddb30682983"
      },
      "execution_count": 58,
      "outputs": [
        {
          "output_type": "stream",
          "name": "stdout",
          "text": [
            "3/3 [==============================] - 1s 440ms/step\n",
            "[[10  0  0  0  0  0  0]\n",
            " [ 0  9  0  0  0  0  0]\n",
            " [ 0  0 14  1  0  0  0]\n",
            " [ 0  0  0 11  0  0  0]\n",
            " [ 0  0  0  0 14  0  0]\n",
            " [ 0  0  0  0  0 16  0]\n",
            " [ 0  0  0  0  0  0 10]]\n",
            "              precision    recall  f1-score   support\n",
            "\n",
            "           0       1.00      1.00      1.00        10\n",
            "           1       1.00      1.00      1.00         9\n",
            "           2       1.00      0.93      0.97        15\n",
            "           3       0.92      1.00      0.96        11\n",
            "           4       1.00      1.00      1.00        14\n",
            "           5       1.00      1.00      1.00        16\n",
            "           6       1.00      1.00      1.00        10\n",
            "\n",
            "    accuracy                           0.99        85\n",
            "   macro avg       0.99      0.99      0.99        85\n",
            "weighted avg       0.99      0.99      0.99        85\n",
            "\n"
          ]
        }
      ]
    },
    {
      "cell_type": "code",
      "source": [
        "model.save('modelA')"
      ],
      "metadata": {
        "colab": {
          "base_uri": "https://localhost:8080/"
        },
        "id": "K4_7OWxEEckz",
        "outputId": "fb50086e-9fca-4c81-dc5d-f8338bc8d947"
      },
      "execution_count": 59,
      "outputs": [
        {
          "output_type": "stream",
          "name": "stderr",
          "text": [
            "WARNING:absl:Found untraced functions such as _jit_compiled_convolution_op, _jit_compiled_convolution_op, _jit_compiled_convolution_op, _jit_compiled_convolution_op, _jit_compiled_convolution_op while saving (showing 5 of 14). These functions will not be directly callable after loading.\n"
          ]
        }
      ]
    },
    {
      "cell_type": "code",
      "source": [
        "# folderx/class0   class1 ... 　のホルダーにwaveファイルを入れて、\n",
        "# folderax.zip の名前で圧縮したファイルをアップロードしておくこと\n",
        "# !unzip folderx.zip"
      ],
      "metadata": {
        "id": "SwPQ0CVQelcO"
      },
      "execution_count": null,
      "outputs": []
    },
    {
      "cell_type": "markdown",
      "source": [
        "手動で sounddatax というフォルダーを作り、その下に class0 というホルダを作り、<br>\n",
        "テストしたい音声ファイル(拡張子 wav）のファイルを格納する。<br>\n",
        "その後、以下のセルを実行すると、音声ファイルの種類を予測した値が表示される。"
      ],
      "metadata": {
        "id": "u2y1evRChszI"
      }
    },
    {
      "cell_type": "code",
      "source": [
        "folder = 'folderx/'\n",
        "files = glob.glob(folder+'class*/*.wav')\n",
        "Xls = []\n",
        "yls = []\n",
        "for file in files:\n",
        "    label = file[file.find('class'):file.find('.wav')].split('/')[0][5:] # classの後の数字をとってくる\n",
        "    x = wav_div_nparr(file)\n",
        "    for i in range(x.shape[0]):\n",
        "        melsp = calculate_melsp(x[i])\n",
        "        Xls.append(melsp)\n",
        "        yls.append(label)\n",
        "X = np.array(Xls)\n",
        "X = X.reshape(X.shape[0],X.shape[1],X.shape[2],1)\n",
        "Y = np.array(yls).astype(int)\n",
        "print(X.shape,Y.shape)\n",
        "x_test=X"
      ],
      "metadata": {
        "colab": {
          "base_uri": "https://localhost:8080/"
        },
        "id": "zfaqD-7Zec_l",
        "outputId": "0be9031e-0c3f-498d-8a35-802252c3ca9b"
      },
      "execution_count": null,
      "outputs": [
        {
          "output_type": "stream",
          "name": "stdout",
          "text": [
            "(1348, 128, 345, 1) (1348,)\n"
          ]
        }
      ]
    },
    {
      "cell_type": "code",
      "source": [
        "pred_test = model.predict(x_test)\n",
        "print(np.argmax(pred_test,axis=1))\n",
        "# 評価した音の分類値が表示される\n",
        "# 0:class0、1:class1、2:class2、..."
      ],
      "metadata": {
        "colab": {
          "base_uri": "https://localhost:8080/"
        },
        "id": "uCtnhlBofaRd",
        "outputId": "8b986341-1ce5-4ce5-f984-1890d1062d98"
      },
      "execution_count": null,
      "outputs": [
        {
          "output_type": "stream",
          "name": "stdout",
          "text": [
            "43/43 [==============================] - 2s 40ms/step\n",
            "[3 3 3 ... 1 1 1]\n"
          ]
        }
      ]
    },
    {
      "cell_type": "code",
      "source": [
        "# 作ったフォルダーを zip ファイルにまとめる\n",
        "# !zip -r  これから作るzipファイル名 の後に zipファイルにしたいフォルダを指定する\n",
        "!zip -r folderx_class4.zip folderx/class4"
      ],
      "metadata": {
        "colab": {
          "base_uri": "https://localhost:8080/"
        },
        "id": "8vnY_2jwz22K",
        "outputId": "3de44b62-f875-4a2b-adee-b1b865637605"
      },
      "execution_count": null,
      "outputs": [
        {
          "output_type": "stream",
          "name": "stdout",
          "text": [
            "  adding: folderx/class4/ (stored 0%)\n",
            "  adding: folderx/class4/50.wav (deflated 4%)\n",
            "  adding: folderx/class4/13.wav (deflated 3%)\n",
            "  adding: folderx/class4/37.wav (deflated 4%)\n",
            "  adding: folderx/class4/40.wav (deflated 4%)\n",
            "  adding: folderx/class4/16.wav (deflated 3%)\n",
            "  adding: folderx/class4/32.wav (deflated 4%)\n",
            "  adding: folderx/class4/20.wav (deflated 4%)\n",
            "  adding: folderx/class4/47.wav (deflated 4%)\n",
            "  adding: folderx/class4/45.wav (deflated 4%)\n",
            "  adding: folderx/class4/44.wav (deflated 4%)\n",
            "  adding: folderx/class4/35.wav (deflated 4%)\n",
            "  adding: folderx/class4/29.wav (deflated 4%)\n",
            "  adding: folderx/class4/6.wav (deflated 3%)\n",
            "  adding: folderx/class4/9.wav (deflated 3%)\n",
            "  adding: folderx/class4/36.wav (deflated 3%)\n",
            "  adding: folderx/class4/30.wav (deflated 4%)\n",
            "  adding: folderx/class4/33.wav (deflated 3%)\n",
            "  adding: folderx/class4/62.wav (deflated 4%)\n",
            "  adding: folderx/class4/54.wav (deflated 4%)\n",
            "  adding: folderx/class4/52.wav (deflated 4%)\n",
            "  adding: folderx/class4/49.wav (deflated 4%)\n",
            "  adding: folderx/class4/31.wav (deflated 4%)\n",
            "  adding: folderx/class4/41.wav (deflated 4%)\n",
            "  adding: folderx/class4/18.wav (deflated 3%)\n",
            "  adding: folderx/class4/28.wav (deflated 4%)\n",
            "  adding: folderx/class4/24.wav (deflated 4%)\n",
            "  adding: folderx/class4/5.wav (deflated 3%)\n",
            "  adding: folderx/class4/10.wav (deflated 3%)\n",
            "  adding: folderx/class4/61.wav (deflated 3%)\n",
            "  adding: folderx/class4/58.wav (deflated 4%)\n",
            "  adding: folderx/class4/0.wav (deflated 4%)\n",
            "  adding: folderx/class4/22.wav (deflated 4%)\n",
            "  adding: folderx/class4/14.wav (deflated 3%)\n",
            "  adding: folderx/class4/51.wav (deflated 4%)\n",
            "  adding: folderx/class4/25.wav (deflated 4%)\n",
            "  adding: folderx/class4/56.wav (deflated 4%)\n",
            "  adding: folderx/class4/3.wav (deflated 3%)\n",
            "  adding: folderx/class4/34.wav (deflated 4%)\n",
            "  adding: folderx/class4/46.wav (deflated 4%)\n",
            "  adding: folderx/class4/26.wav (deflated 4%)\n",
            "  adding: folderx/class4/4.wav (deflated 3%)\n",
            "  adding: folderx/class4/1.wav (deflated 4%)\n",
            "  adding: folderx/class4/15.wav (deflated 3%)\n",
            "  adding: folderx/class4/38.wav (deflated 3%)\n",
            "  adding: folderx/class4/39.wav (deflated 4%)\n",
            "  adding: folderx/class4/67.wav (deflated 4%)\n",
            "  adding: folderx/class4/59.wav (deflated 4%)\n",
            "  adding: folderx/class4/12.wav (deflated 3%)\n",
            "  adding: folderx/class4/2.wav (deflated 3%)\n",
            "  adding: folderx/class4/60.wav (deflated 4%)\n",
            "  adding: folderx/class4/57.wav (deflated 4%)\n",
            "  adding: folderx/class4/42.wav (deflated 4%)\n",
            "  adding: folderx/class4/48.wav (deflated 4%)\n",
            "  adding: folderx/class4/65.wav (deflated 4%)\n",
            "  adding: folderx/class4/43.wav (deflated 4%)\n",
            "  adding: folderx/class4/53.wav (deflated 4%)\n",
            "  adding: folderx/class4/11.wav (deflated 3%)\n",
            "  adding: folderx/class4/7.wav (deflated 3%)\n",
            "  adding: folderx/class4/17.wav (deflated 4%)\n",
            "  adding: folderx/class4/19.wav (deflated 3%)\n",
            "  adding: folderx/class4/23.wav (deflated 3%)\n",
            "  adding: folderx/class4/55.wav (deflated 4%)\n",
            "  adding: folderx/class4/21.wav (deflated 3%)\n",
            "  adding: folderx/class4/27.wav (deflated 4%)\n",
            "  adding: folderx/class4/8.wav (deflated 4%)\n",
            "  adding: folderx/class4/64.wav (deflated 4%)\n",
            "  adding: folderx/class4/66.wav (deflated 4%)\n",
            "  adding: folderx/class4/63.wav (deflated 4%)\n"
          ]
        }
      ]
    }
  ]
}